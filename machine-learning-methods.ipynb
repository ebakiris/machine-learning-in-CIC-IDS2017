{
 "cells": [
  {
   "cell_type": "markdown",
   "metadata": {},
   "source": [
    "# Import necessary packages"
   ]
  },
  {
   "cell_type": "code",
   "execution_count": 1,
   "metadata": {},
   "outputs": [],
   "source": [
    "import numpy as np\n",
    "import pandas as pd\n",
    "from sklearn.feature_selection import mutual_info_regression\n",
    "from sklearn.datasets import make_regression\n",
    "from sklearn.model_selection import train_test_split\n",
    "from sklearn.feature_selection import mutual_info_classif\n",
    "from sklearn.preprocessing import StandardScaler\n",
    "\n",
    "from sklearn.svm import SVC\n",
    "from sklearn.naive_bayes import BernoulliNB \n",
    "from sklearn import tree\n",
    "from sklearn.model_selection import cross_val_score\n",
    "from sklearn.neighbors import KNeighborsClassifier\n",
    "from sklearn.linear_model import LogisticRegression\n",
    "\n",
    "from sklearn.ensemble import RandomForestClassifier\n",
    "from sklearn.decomposition import PCA\n",
    "import seaborn as sns\n",
    "import matplotlib.pyplot as plt \n",
    "\n",
    "pd.set_option('display.max_rows', 100)"
   ]
  },
  {
   "cell_type": "markdown",
   "metadata": {},
   "source": [
    "## Concat csv files into one dataframe - df"
   ]
  },
  {
   "cell_type": "code",
   "execution_count": 2,
   "metadata": {},
   "outputs": [],
   "source": [
    "\n",
    "df_monday = pd.read_csv ('Monday-WorkingHours.pcap_ISCX.csv')\n",
    "df_tuesday = pd.read_csv ('Tuesday-WorkingHours.pcap_ISCX.csv')\n",
    "df_wednesday = pd.read_csv('Wednesday-workingHours.pcap_ISCX.csv')\n",
    "df_thursday_morning = pd.read_csv('Thursday-WorkingHours-Morning-WebAttacks.pcap_ISCX.csv')\n",
    "df_thursday_afternoon = pd.read_csv('Thursday-WorkingHours-Afternoon-Infilteration.pcap_ISCX.csv')\n",
    "df_friday_morning = pd.read_csv('Friday-WorkingHours-Morning.pcap_ISCX.csv')\n",
    "df_friday_afternoon_ddos = pd.read_csv('Friday-WorkingHours-Afternoon-DDos.pcap_ISCX.csv')\n",
    "df_friday_afternoon_portscan = pd.read_csv('Friday-WorkingHours-Afternoon-PortScan.pcap_ISCX.csv')\n"
   ]
  },
  {
   "cell_type": "code",
   "execution_count": 3,
   "metadata": {},
   "outputs": [],
   "source": [
    "data = [df_monday, df_tuesday, df_wednesday, df_thursday_morning, df_thursday_afternoon, df_friday_morning, df_friday_afternoon_ddos, df_friday_afternoon_portscan] "
   ]
  },
  {
   "cell_type": "code",
   "execution_count": 4,
   "metadata": {},
   "outputs": [],
   "source": [
    "df = pd.concat(data)"
   ]
  },
  {
   "cell_type": "markdown",
   "metadata": {},
   "source": [
    "# For statistical reasons"
   ]
  },
  {
   "cell_type": "code",
   "execution_count": null,
   "metadata": {},
   "outputs": [],
   "source": [
    "# get the number of missing data points per column\n",
    "missing_values_count = df.isnull().sum()\n",
    "\n",
    "# look at the # of missing points in the first ten columns\n",
    "missing_values_count[0:50]\n",
    "\n",
    "# how many total missing values do we have?\n",
    "total_cells = np.product(df.shape)\n",
    "total_missing = missing_values_count.sum()\n",
    "\n",
    "# percent of data that is missing\n",
    "percent_missing = (total_missing/total_cells) * 100\n",
    "print(percent_missing)"
   ]
  },
  {
   "cell_type": "markdown",
   "metadata": {},
   "source": [
    "# Data cleaning"
   ]
  },
  {
   "cell_type": "markdown",
   "metadata": {},
   "source": [
    "### Mark columns with Inf/NaN values with value -1"
   ]
  },
  {
   "cell_type": "code",
   "execution_count": 5,
   "metadata": {},
   "outputs": [],
   "source": [
    "# Replace inf values with nan\n",
    "df_clean = df.replace([np.inf, -np.inf], np.nan)"
   ]
  },
  {
   "cell_type": "code",
   "execution_count": 6,
   "metadata": {},
   "outputs": [
    {
     "name": "stdout",
     "output_type": "stream",
     "text": [
      "In column  Destination Port the percentage of NaN is 0.0 %\n",
      "In column  Flow Duration the percentage of NaN is 0.0 %\n",
      "In column  Total Fwd Packets the percentage of NaN is 0.0 %\n",
      "In column  Total Backward Packets the percentage of NaN is 0.0 %\n",
      "In column Total Length of Fwd Packets the percentage of NaN is 0.0 %\n",
      "In column  Total Length of Bwd Packets the percentage of NaN is 0.0 %\n",
      "In column  Fwd Packet Length Max the percentage of NaN is 0.0 %\n",
      "In column  Fwd Packet Length Min the percentage of NaN is 0.0 %\n",
      "In column  Fwd Packet Length Mean the percentage of NaN is 0.0 %\n",
      "In column  Fwd Packet Length Std the percentage of NaN is 0.0 %\n",
      "In column Bwd Packet Length Max the percentage of NaN is 0.0 %\n",
      "In column  Bwd Packet Length Min the percentage of NaN is 0.0 %\n",
      "In column  Bwd Packet Length Mean the percentage of NaN is 0.0 %\n",
      "In column  Bwd Packet Length Std the percentage of NaN is 0.0 %\n",
      "In column Flow Bytes/s the percentage of NaN is 0.1012808298033414 %\n",
      "In column  Flow Packets/s the percentage of NaN is 0.1012808298033414 %\n",
      "In column  Flow IAT Mean the percentage of NaN is 0.0 %\n",
      "In column  Flow IAT Std the percentage of NaN is 0.0 %\n",
      "In column  Flow IAT Max the percentage of NaN is 0.0 %\n",
      "In column  Flow IAT Min the percentage of NaN is 0.0 %\n",
      "In column Fwd IAT Total the percentage of NaN is 0.0 %\n",
      "In column  Fwd IAT Mean the percentage of NaN is 0.0 %\n",
      "In column  Fwd IAT Std the percentage of NaN is 0.0 %\n",
      "In column  Fwd IAT Max the percentage of NaN is 0.0 %\n",
      "In column  Fwd IAT Min the percentage of NaN is 0.0 %\n",
      "In column Bwd IAT Total the percentage of NaN is 0.0 %\n",
      "In column  Bwd IAT Mean the percentage of NaN is 0.0 %\n",
      "In column  Bwd IAT Std the percentage of NaN is 0.0 %\n",
      "In column  Bwd IAT Max the percentage of NaN is 0.0 %\n",
      "In column  Bwd IAT Min the percentage of NaN is 0.0 %\n",
      "In column Fwd PSH Flags the percentage of NaN is 0.0 %\n",
      "In column  Bwd PSH Flags the percentage of NaN is 0.0 %\n",
      "In column  Fwd URG Flags the percentage of NaN is 0.0 %\n",
      "In column  Bwd URG Flags the percentage of NaN is 0.0 %\n",
      "In column  Fwd Header Length the percentage of NaN is 0.0 %\n",
      "In column  Bwd Header Length the percentage of NaN is 0.0 %\n",
      "In column Fwd Packets/s the percentage of NaN is 0.0 %\n",
      "In column  Bwd Packets/s the percentage of NaN is 0.0 %\n",
      "In column  Min Packet Length the percentage of NaN is 0.0 %\n",
      "In column  Max Packet Length the percentage of NaN is 0.0 %\n",
      "In column  Packet Length Mean the percentage of NaN is 0.0 %\n",
      "In column  Packet Length Std the percentage of NaN is 0.0 %\n",
      "In column  Packet Length Variance the percentage of NaN is 0.0 %\n",
      "In column FIN Flag Count the percentage of NaN is 0.0 %\n",
      "In column  SYN Flag Count the percentage of NaN is 0.0 %\n",
      "In column  RST Flag Count the percentage of NaN is 0.0 %\n",
      "In column  PSH Flag Count the percentage of NaN is 0.0 %\n",
      "In column  ACK Flag Count the percentage of NaN is 0.0 %\n",
      "In column  URG Flag Count the percentage of NaN is 0.0 %\n",
      "In column  CWE Flag Count the percentage of NaN is 0.0 %\n",
      "In column  ECE Flag Count the percentage of NaN is 0.0 %\n",
      "In column  Down/Up Ratio the percentage of NaN is 0.0 %\n",
      "In column  Average Packet Size the percentage of NaN is 0.0 %\n",
      "In column  Avg Fwd Segment Size the percentage of NaN is 0.0 %\n",
      "In column  Avg Bwd Segment Size the percentage of NaN is 0.0 %\n",
      "In column  Fwd Header Length.1 the percentage of NaN is 0.0 %\n",
      "In column Fwd Avg Bytes/Bulk the percentage of NaN is 0.0 %\n",
      "In column  Fwd Avg Packets/Bulk the percentage of NaN is 0.0 %\n",
      "In column  Fwd Avg Bulk Rate the percentage of NaN is 0.0 %\n",
      "In column  Bwd Avg Bytes/Bulk the percentage of NaN is 0.0 %\n",
      "In column  Bwd Avg Packets/Bulk the percentage of NaN is 0.0 %\n",
      "In column Bwd Avg Bulk Rate the percentage of NaN is 0.0 %\n",
      "In column Subflow Fwd Packets the percentage of NaN is 0.0 %\n",
      "In column  Subflow Fwd Bytes the percentage of NaN is 0.0 %\n",
      "In column  Subflow Bwd Packets the percentage of NaN is 0.0 %\n",
      "In column  Subflow Bwd Bytes the percentage of NaN is 0.0 %\n",
      "In column Init_Win_bytes_forward the percentage of NaN is 0.0 %\n",
      "In column  Init_Win_bytes_backward the percentage of NaN is 0.0 %\n",
      "In column  act_data_pkt_fwd the percentage of NaN is 0.0 %\n",
      "In column  min_seg_size_forward the percentage of NaN is 0.0 %\n",
      "In column Active Mean the percentage of NaN is 0.0 %\n",
      "In column  Active Std the percentage of NaN is 0.0 %\n",
      "In column  Active Max the percentage of NaN is 0.0 %\n",
      "In column  Active Min the percentage of NaN is 0.0 %\n",
      "In column Idle Mean the percentage of NaN is 0.0 %\n",
      "In column  Idle Std the percentage of NaN is 0.0 %\n",
      "In column  Idle Max the percentage of NaN is 0.0 %\n",
      "In column  Idle Min the percentage of NaN is 0.0 %\n",
      "In column  Label the percentage of NaN is 0.0 %\n"
     ]
    }
   ],
   "source": [
    "for column in df_clean:\n",
    "    count = df_clean[column].isna().sum()\n",
    "    print(\"In column {} the percentage of NaN is {} %\".format(column, (count/df_clean.shape[0])*100 ))\n",
    "\n",
    "df_clean = df_clean.replace(np.nan, -1)\n",
    "#df_clean = df.dropna(axis=1)\n",
    "# columns_with_na_dropped.head()"
   ]
  },
  {
   "cell_type": "markdown",
   "metadata": {},
   "source": [
    "### Delete columns that contain ZERO (0) values in 99% and above of rows "
   ]
  },
  {
   "cell_type": "code",
   "execution_count": 7,
   "metadata": {},
   "outputs": [
    {
     "name": "stdout",
     "output_type": "stream",
     "text": [
      "Total columns before deleting 79\n",
      "Column deleted:  Bwd PSH Flags\n",
      "Column deleted:  Fwd URG Flags\n",
      "Column deleted:  Bwd URG Flags\n",
      "Column deleted:  RST Flag Count\n",
      "Column deleted:  CWE Flag Count\n",
      "Column deleted:  ECE Flag Count\n",
      "Column deleted: Fwd Avg Bytes/Bulk\n",
      "Column deleted:  Fwd Avg Packets/Bulk\n",
      "Column deleted:  Fwd Avg Bulk Rate\n",
      "Column deleted:  Bwd Avg Bytes/Bulk\n",
      "Column deleted:  Bwd Avg Packets/Bulk\n",
      "Column deleted: Bwd Avg Bulk Rate\n",
      "Total rows: 2830743\n",
      "Total columns after deleting: 67\n"
     ]
    }
   ],
   "source": [
    "print(\"Total columns before deleting {}\".format(df_clean.shape[1]))\n",
    "\n",
    "for column in df_clean:\n",
    "    count = (df_clean[column] == 0).sum()\n",
    "    percent_of_zeros = (count/df_clean.shape[0])*100\n",
    "    #if(percent_of_zeros >= 70):\n",
    "    #    print('Perc of zeros in Column  {} is {} %: '.format(column, percent_of_zeros))\n",
    "    if(percent_of_zeros >= 99.0):\n",
    "        print(\"Column deleted: {}\".format(column))\n",
    "        df_clean.drop(column, inplace=True, axis=1)\n",
    "    \n",
    "print(\"Total rows: {}\".format(df_clean.shape[0]))\n",
    "print(\"Total columns after deleting: {}\" .format(df_clean.shape[1]))"
   ]
  },
  {
   "cell_type": "markdown",
   "metadata": {},
   "source": [
    "### Delete columns that contain INF+NAN values in 30% and above of rows"
   ]
  },
  {
   "cell_type": "code",
   "execution_count": 8,
   "metadata": {},
   "outputs": [
    {
     "name": "stdout",
     "output_type": "stream",
     "text": [
      "Total columns before deleting 67\n",
      "Perc of inf+nan in Column   Destination Port is 0.0 %: \n",
      "Perc of inf+nan in Column   Flow Duration is 0.003850579158899271 %: \n",
      "Perc of inf+nan in Column   Total Fwd Packets is 0.0 %: \n",
      "Perc of inf+nan in Column   Total Backward Packets is 0.0 %: \n",
      "Perc of inf+nan in Column  Total Length of Fwd Packets is 0.0 %: \n",
      "Perc of inf+nan in Column   Total Length of Bwd Packets is 0.0 %: \n",
      "Perc of inf+nan in Column   Fwd Packet Length Max is 0.0 %: \n",
      "Perc of inf+nan in Column   Fwd Packet Length Min is 0.0 %: \n",
      "Perc of inf+nan in Column   Fwd Packet Length Mean is 0.0 %: \n",
      "Perc of inf+nan in Column   Fwd Packet Length Std is 0.0 %: \n",
      "Perc of inf+nan in Column  Bwd Packet Length Max is 0.0 %: \n",
      "Perc of inf+nan in Column   Bwd Packet Length Min is 0.0 %: \n",
      "Perc of inf+nan in Column   Bwd Packet Length Mean is 0.0 %: \n",
      "Perc of inf+nan in Column   Bwd Packet Length Std is 0.0 %: \n",
      "Perc of inf+nan in Column  Flow Bytes/s is 0.1012808298033414 %: \n",
      "Perc of inf+nan in Column   Flow Packets/s is 0.1012808298033414 %: \n",
      "Perc of inf+nan in Column   Flow IAT Mean is 0.003850579158899271 %: \n",
      "Perc of inf+nan in Column   Flow IAT Std is 0.0 %: \n",
      "Perc of inf+nan in Column   Flow IAT Max is 0.003850579158899271 %: \n",
      "Perc of inf+nan in Column   Flow IAT Min is 0.09728894498723481 %: \n",
      "Perc of inf+nan in Column  Fwd IAT Total is 0.0 %: \n",
      "Perc of inf+nan in Column   Fwd IAT Mean is 0.0 %: \n",
      "Perc of inf+nan in Column   Fwd IAT Std is 0.0 %: \n",
      "Perc of inf+nan in Column   Fwd IAT Max is 0.0 %: \n",
      "Perc of inf+nan in Column   Fwd IAT Min is 0.0005298962145274227 %: \n",
      "Perc of inf+nan in Column  Bwd IAT Total is 0.0 %: \n",
      "Perc of inf+nan in Column   Bwd IAT Mean is 0.0 %: \n",
      "Perc of inf+nan in Column   Bwd IAT Std is 0.0 %: \n",
      "Perc of inf+nan in Column   Bwd IAT Max is 0.0 %: \n",
      "Perc of inf+nan in Column   Bwd IAT Min is 0.0 %: \n",
      "Perc of inf+nan in Column  Fwd PSH Flags is 0.0 %: \n",
      "Perc of inf+nan in Column   Fwd Header Length is 0.0 %: \n",
      "Perc of inf+nan in Column   Bwd Header Length is 0.0 %: \n",
      "Perc of inf+nan in Column  Fwd Packets/s is 0.0 %: \n",
      "Perc of inf+nan in Column   Bwd Packets/s is 0.0 %: \n",
      "Perc of inf+nan in Column   Min Packet Length is 0.0 %: \n",
      "Perc of inf+nan in Column   Max Packet Length is 0.0 %: \n",
      "Perc of inf+nan in Column   Packet Length Mean is 0.0 %: \n",
      "Perc of inf+nan in Column   Packet Length Std is 0.0 %: \n",
      "Perc of inf+nan in Column   Packet Length Variance is 0.0 %: \n",
      "Perc of inf+nan in Column  FIN Flag Count is 0.0 %: \n",
      "Perc of inf+nan in Column   SYN Flag Count is 0.0 %: \n",
      "Perc of inf+nan in Column   PSH Flag Count is 0.0 %: \n",
      "Perc of inf+nan in Column   ACK Flag Count is 0.0 %: \n",
      "Perc of inf+nan in Column   URG Flag Count is 0.0 %: \n",
      "Perc of inf+nan in Column   Down/Up Ratio is 0.0 %: \n",
      "Perc of inf+nan in Column   Average Packet Size is 0.0 %: \n",
      "Perc of inf+nan in Column   Avg Fwd Segment Size is 0.0 %: \n",
      "Perc of inf+nan in Column   Avg Bwd Segment Size is 0.0 %: \n",
      "Perc of inf+nan in Column   Fwd Header Length.1 is 0.0 %: \n",
      "Perc of inf+nan in Column  Subflow Fwd Packets is 0.0 %: \n",
      "Perc of inf+nan in Column   Subflow Fwd Bytes is 0.0 %: \n",
      "Perc of inf+nan in Column   Subflow Bwd Packets is 0.0 %: \n",
      "Perc of inf+nan in Column   Subflow Bwd Bytes is 0.0 %: \n",
      "Perc of inf+nan in Column  Init_Win_bytes_forward is 35.368417408433054 %: \n",
      "Perc of inf+nan in Column   Init_Win_bytes_backward is 50.92486318962901 %: \n",
      "Perc of inf+nan in Column   act_data_pkt_fwd is 0.0 %: \n",
      "Perc of inf+nan in Column   min_seg_size_forward is 3.532641430182818e-05 %: \n",
      "Perc of inf+nan in Column  Active Mean is 0.0 %: \n",
      "Perc of inf+nan in Column   Active Std is 0.0 %: \n",
      "Perc of inf+nan in Column   Active Max is 0.0 %: \n",
      "Perc of inf+nan in Column   Active Min is 0.0 %: \n",
      "Perc of inf+nan in Column  Idle Mean is 0.0 %: \n",
      "Perc of inf+nan in Column   Idle Std is 0.0 %: \n",
      "Perc of inf+nan in Column   Idle Max is 0.0 %: \n",
      "Perc of inf+nan in Column   Idle Min is 0.0 %: \n",
      "Perc of inf+nan in Column   Label is 0.0 %: \n",
      "Total rows: 2830743\n",
      "Total columns after deleting: 65\n"
     ]
    }
   ],
   "source": [
    "print(\"Total columns before deleting {}\".format(df_clean.shape[1]))\n",
    "\n",
    "for column in df_clean:\n",
    "    count = (df_clean[column] == -1).sum()\n",
    "    percent_of_inf_nan = (count/df_clean.shape[0])*100\n",
    "    #if(percent_of_zeros >= 70):\n",
    "    print('Perc of inf+nan in Column  {} is {} %: '.format(column, percent_of_inf_nan))\n",
    "    if(percent_of_inf_nan >= 30.0):\n",
    "        df_clean.drop(column, inplace=True, axis=1)\n",
    "    \n",
    "print(\"Total rows: {}\".format(df_clean.shape[0]))\n",
    "print(\"Total columns after deleting: {}\" .format(df_clean.shape[1]))"
   ]
  },
  {
   "cell_type": "markdown",
   "metadata": {},
   "source": [
    "### Delete rows that contain at least one inf or nan value in any column/feature"
   ]
  },
  {
   "cell_type": "code",
   "execution_count": 9,
   "metadata": {},
   "outputs": [
    {
     "name": "stdout",
     "output_type": "stream",
     "text": [
      "Number of rows before deleting rows 2830743\n",
      "Number of rows after deleting rows 2825122\n",
      "Percentage of deleted rows: 0.1985697747905762 %\n"
     ]
    }
   ],
   "source": [
    "print(\"Number of rows before deleting rows {}\".format(df_clean.shape[0]))\n",
    "for column in df_clean:\n",
    "    df_clean = df_clean[df_clean[column] != -1]\n",
    "\n",
    "print(\"Number of rows after deleting rows {}\".format(df_clean.shape[0]))\n",
    "print(\"Percentage of deleted rows: {} %\".format(((df.shape[0]-df_clean.shape[0])/df.shape[0])*100))"
   ]
  },
  {
   "cell_type": "markdown",
   "metadata": {},
   "source": [
    "# Start of data pre-processing"
   ]
  },
  {
   "cell_type": "markdown",
   "metadata": {},
   "source": [
    "## Feature selection"
   ]
  },
  {
   "cell_type": "markdown",
   "metadata": {},
   "source": [
    "### Prepare variables for information gain computation"
   ]
  },
  {
   "cell_type": "code",
   "execution_count": null,
   "metadata": {},
   "outputs": [],
   "source": [
    "df_clean_1 = df_clean\n",
    "df_clean_2 = df_clean"
   ]
  },
  {
   "cell_type": "code",
   "execution_count": null,
   "metadata": {},
   "outputs": [],
   "source": [
    "y = df_clean_1.loc[:, df_clean_1.columns == \" Label\"]\n",
    "# X = df_clean_2.loc[:, df_clean_2.columns != \" Label\"]\n",
    "\n",
    "X = df_clean_2[['Idle Mean', ' Average Packet Size']]\n"
   ]
  },
  {
   "cell_type": "code",
   "execution_count": null,
   "metadata": {},
   "outputs": [],
   "source": [
    "features_col = list(df_clean.columns)"
   ]
  },
  {
   "cell_type": "code",
   "execution_count": null,
   "metadata": {},
   "outputs": [],
   "source": [
    "y = y.astype('int')"
   ]
  },
  {
   "cell_type": "markdown",
   "metadata": {},
   "source": [
    "### Information Gain"
   ]
  },
  {
   "cell_type": "code",
   "execution_count": null,
   "metadata": {},
   "outputs": [],
   "source": [
    "# Get the mutual information coefficients and convert them to a data frame\n",
    "coeff_df =pd.DataFrame(mutual_info_classif(X, y).reshape(-1, 1),\n",
    "                         columns=['Coefficient'], index=['Idle Mean', ' Average Packet Size'])"
   ]
  },
  {
   "cell_type": "code",
   "execution_count": null,
   "metadata": {},
   "outputs": [],
   "source": [
    "# Get the mutual information coefficients and convert them to a data frame\n",
    "coeff_df =pd.DataFrame(mutual_info_classif(X, y).reshape(-1, 1),\n",
    "                         columns=['Coefficient'], index=[' Total Backward Packets', ' Total Length of Bwd Packets'])"
   ]
  },
  {
   "cell_type": "code",
   "execution_count": null,
   "metadata": {},
   "outputs": [],
   "source": [
    "# Get the mutual information coefficients and convert them to a data frame\n",
    "coeff_df =pd.DataFrame(mutual_info_classif(X, y).reshape(-1, 1),\n",
    "                         columns=['Coefficient'], index=[' Fwd Packet Length Max', ' Fwd Packet Length Min'])"
   ]
  },
  {
   "cell_type": "code",
   "execution_count": null,
   "metadata": {},
   "outputs": [],
   "source": [
    "# Get the mutual information coefficients and convert them to a data frame\n",
    "coeff_df =pd.DataFrame(mutual_info_classif(X, y).reshape(-1, 1),\n",
    "                         columns=['Coefficient'], index=[' Fwd Packet Length Mean', ' Fwd Packet Length Std'])"
   ]
  },
  {
   "cell_type": "code",
   "execution_count": null,
   "metadata": {},
   "outputs": [],
   "source": [
    "# Get the mutual information coefficients and convert them to a data frame\n",
    "coeff_df =pd.DataFrame(mutual_info_classif(X, y).reshape(-1, 1),\n",
    "                         columns=['Coefficient'], index=[' Bwd Packet Length Mean', ' Bwd Packet Length Std'])"
   ]
  },
  {
   "cell_type": "code",
   "execution_count": null,
   "metadata": {},
   "outputs": [],
   "source": [
    "# Get the mutual information coefficients and convert them to a data frame\n",
    "coeff_df =pd.DataFrame(mutual_info_classif(X, y).reshape(-1, 1),\n",
    "                         columns=['Coefficient'], index=['Flow Bytes/s', ' Flow Packets/s'])"
   ]
  },
  {
   "cell_type": "code",
   "execution_count": null,
   "metadata": {},
   "outputs": [],
   "source": [
    "# Get the mutual information coefficients and convert them to a data frame\n",
    "coeff_df =pd.DataFrame(mutual_info_classif(X, y).reshape(-1, 1),\n",
    "                         columns=['Coefficient'], index=[' Flow IAT Mean', ' Flow IAT Std'])"
   ]
  },
  {
   "cell_type": "code",
   "execution_count": null,
   "metadata": {},
   "outputs": [],
   "source": [
    "# Get the mutual information coefficients and convert them to a data frame\n",
    "coeff_df =pd.DataFrame(mutual_info_classif(X, y).reshape(-1, 1),\n",
    "                         columns=['Coefficient'], index=[' Flow IAT Max', ' Flow IAT Min', 'Fwd IAT Total', ' Fwd IAT Mean', ' Fwd IAT Std'])"
   ]
  },
  {
   "cell_type": "code",
   "execution_count": null,
   "metadata": {},
   "outputs": [],
   "source": [
    "# Get the mutual information coefficients and convert them to a data frame\n",
    "coeff_df =pd.DataFrame(mutual_info_classif(X, y).reshape(-1, 1),\n",
    "                         columns=['Coefficient'], index=[' Fwd IAT Max', ' Fwd IAT Min', 'Bwd IAT Total', ' Bwd IAT Mean', ' Bwd IAT Std', ' Bwd IAT Max', ' Bwd IAT Min'])\n"
   ]
  },
  {
   "cell_type": "code",
   "execution_count": null,
   "metadata": {},
   "outputs": [],
   "source": [
    "# Get the mutual information coefficients and convert them to a data frame\n",
    "coeff_df =pd.DataFrame(mutual_info_classif(X, y).reshape(-1, 1),\n",
    "                         columns=['Coefficient'], index=['Fwd PSH Flags', ' Fwd Header Length', ' Bwd Header Length', 'Fwd Packets/s', ' Bwd Packets/s', ' Min Packet Length', ' Max Packet Length', ' Packet Length Mean', ' Packet Length Std', ' Packet Length Variance'])"
   ]
  },
  {
   "cell_type": "code",
   "execution_count": null,
   "metadata": {},
   "outputs": [],
   "source": [
    "# Get the mutual information coefficients and convert them to a data frame\n",
    "coeff_df =pd.DataFrame(mutual_info_classif(X, y).reshape(-1, 1),\n",
    "                         columns=['Coefficient'], index=['FIN Flag Count', ' SYN Flag Count', ' PSH Flag Count', ' ACK Flag Count', ' URG Flag Count', ' Down/Up Ratio', ' Average Packet Size', ' Avg Fwd Segment Size', ' Avg Bwd Segment Size', ' Fwd Header Length.1'])\n"
   ]
  },
  {
   "cell_type": "code",
   "execution_count": null,
   "metadata": {},
   "outputs": [],
   "source": [
    "# Get the mutual information coefficients and convert them to a data frame\n",
    "coeff_df =pd.DataFrame(mutual_info_classif(X, y).reshape(-1, 1),\n",
    "                         columns=['Coefficient'], index=['Subflow Fwd Packets', ' Subflow Fwd Bytes', ' Subflow Bwd Packets', ' Subflow Bwd Bytes', ' act_data_pkt_fwd', ' min_seg_size_forward', 'Active Mean', ' Active Std', ' Active Max', ' Active Min'])\n"
   ]
  },
  {
   "cell_type": "code",
   "execution_count": null,
   "metadata": {},
   "outputs": [],
   "source": [
    "# Get the mutual information coefficients and convert them to a data frame\n",
    "coeff_df =pd.DataFrame(mutual_info_classif(X, y).reshape(-1, 1),\n",
    "                         columns=['Coefficient'], index=['Idle Mean', ' Idle Std', ' Idle Max', ' Idle Min'])\n"
   ]
  },
  {
   "cell_type": "markdown",
   "metadata": {},
   "source": [
    "### Information gain result"
   ]
  },
  {
   "cell_type": "code",
   "execution_count": null,
   "metadata": {},
   "outputs": [],
   "source": [
    "coeff_df"
   ]
  },
  {
   "cell_type": "markdown",
   "metadata": {},
   "source": [
    "### Selected features regarding Information Gain scores"
   ]
  },
  {
   "cell_type": "code",
   "execution_count": 10,
   "metadata": {},
   "outputs": [],
   "source": [
    "# features selected after information gain score evaluated\n",
    "\n",
    "features_selected_col = list([\" Destination Port\",  \" Average Packet Size\", \" Packet Length Mean\", \" Packet Length Std\",\n",
    "\" Packet Length Variance\", \" Subflow Bwd Bytes\", \" Total Length of Bwd Packets\", \" Bwd Packet Length Mean\", \" Avg Bwd Segment Size\", \" Subflow Fwd Bytes\", \"Total Length of Fwd Packets\", \"Bwd Packet Length Max\", \" Max Packet Length\",\" Fwd Packet Length Max\"\n",
    ",\" Flow IAT Max\", \" Label\"])"
   ]
  },
  {
   "cell_type": "code",
   "execution_count": 11,
   "metadata": {},
   "outputs": [],
   "source": [
    "df_clean[\" Label\"].replace(['BENIGN', 'FTP-Patator', 'SSH-Patator', 'DoS slowloris', 'DoS Slowhttptest', 'DoS Hulk', \n",
    "                       'DoS GoldenEye', 'Heartbleed','Web Attack � Brute Force', 'Web Attack � XSS', 'Web Attack � Sql Injection', 'Infiltration', 'Bot', 'DDoS', 'PortScan'],\n",
    "                        [0, 1, 2, 3, 4 , 5, 6 , 7, 8, 9, 10, 11, 12, 13, 14], inplace=True)\n",
    "\n"
   ]
  },
  {
   "cell_type": "markdown",
   "metadata": {},
   "source": [
    "## Split to train/test"
   ]
  },
  {
   "cell_type": "code",
   "execution_count": 12,
   "metadata": {},
   "outputs": [],
   "source": [
    "X = df_clean[list(df_clean.columns)]\n",
    "y = df_clean.loc[:, df_clean.columns == \" Label\"]\n",
    "X_train, X_test, y_train, y_test = train_test_split(X, y, test_size=0.3, random_state=1)"
   ]
  },
  {
   "cell_type": "code",
   "execution_count": 13,
   "metadata": {},
   "outputs": [
    {
     "name": "stdout",
     "output_type": "stream",
     "text": [
      "Train (1977585, 65) (1977585, 1)\n",
      "Test (847537, 65) (847537, 1)\n",
      "Original (2825122, 65) (2825122, 65)\n"
     ]
    }
   ],
   "source": [
    "print('Train', X_train.shape, y_train.shape)\n",
    "print('Test', X_test.shape, y_test.shape)\n",
    "print('Original', X.shape, df_clean.shape)"
   ]
  },
  {
   "cell_type": "markdown",
   "metadata": {},
   "source": [
    "## Scalling"
   ]
  },
  {
   "cell_type": "code",
   "execution_count": 14,
   "metadata": {},
   "outputs": [],
   "source": [
    "#Scalling numerical attributes\n",
    "scaler = StandardScaler()\n",
    "\n",
    "# extract numerical attributes and scale it to have zero mean and unit variance  \n",
    "cols_X = X_train.select_dtypes(include=['float64','int64']).columns\n",
    "cols_test_X = X_test.select_dtypes(include=['float64','int64']).columns\n",
    "sc_train_X = scaler.fit_transform(X_train.select_dtypes(include=['float64','int64']))\n",
    "sc_test_X = scaler.fit_transform(X_test.select_dtypes(include=['float64','int64']))\n",
    "\n",
    "# turn the result back to a dataframe\n",
    "sc_traindf_X = pd.DataFrame(sc_train_X, columns = cols_X)\n",
    "sc_testdf_X = pd.DataFrame(sc_test_X, columns = cols_test_X)"
   ]
  },
  {
   "cell_type": "markdown",
   "metadata": {},
   "source": [
    "## One hot encoder"
   ]
  },
  {
   "cell_type": "code",
   "execution_count": 15,
   "metadata": {},
   "outputs": [],
   "source": [
    "# importing one hot encoder from sklearn \n",
    "from sklearn.preprocessing import OneHotEncoder\n",
    "\n",
    "# creating one hot encoder object \n",
    "onehotencoder = OneHotEncoder(categories='auto') \n",
    "\n",
    "trainDep = y_train.values.reshape(-1,1)\n",
    "trainDep = onehotencoder.fit_transform(trainDep).toarray()\n",
    "testDep = y_test[' Label'].values.reshape(-1,1)\n",
    "testDep = onehotencoder.fit_transform(testDep).toarray()"
   ]
  },
  {
   "cell_type": "code",
   "execution_count": 16,
   "metadata": {},
   "outputs": [],
   "source": [
    "train_X = sc_traindf_X\n",
    "train_y=trainDep[:,0]\n",
    "\n",
    "test_X=sc_testdf_X\n",
    "test_y=testDep[:,0]\n"
   ]
  },
  {
   "cell_type": "markdown",
   "metadata": {},
   "source": [
    "## Feature Selection"
   ]
  },
  {
   "cell_type": "markdown",
   "metadata": {},
   "source": [
    "### Random Forest Classifier"
   ]
  },
  {
   "cell_type": "code",
   "execution_count": 17,
   "metadata": {},
   "outputs": [],
   "source": [
    "#Feature Selection\n",
    "rfc = RandomForestClassifier();\n",
    "\n",
    "# fit random forest classifier on the training set\n",
    "rfc.fit(test_X, test_y);\n",
    "\n",
    "# extract important features\n",
    "score = np.round(rfc.feature_importances_,3)\n",
    "importances = pd.DataFrame({'feature':train_X.columns,'importance':score})\n",
    "importances = importances.sort_values('importance',ascending=False).set_index('feature')\n",
    "\n"
   ]
  },
  {
   "cell_type": "markdown",
   "metadata": {},
   "source": [
    "#### Plot importance of features selected by Random Forest Classifier"
   ]
  },
  {
   "cell_type": "code",
   "execution_count": 18,
   "metadata": {},
   "outputs": [
    {
     "data": {
      "text/html": [
       "<div>\n",
       "<style scoped>\n",
       "    .dataframe tbody tr th:only-of-type {\n",
       "        vertical-align: middle;\n",
       "    }\n",
       "\n",
       "    .dataframe tbody tr th {\n",
       "        vertical-align: top;\n",
       "    }\n",
       "\n",
       "    .dataframe thead th {\n",
       "        text-align: right;\n",
       "    }\n",
       "</style>\n",
       "<table border=\"1\" class=\"dataframe\">\n",
       "  <thead>\n",
       "    <tr style=\"text-align: right;\">\n",
       "      <th></th>\n",
       "      <th>importance</th>\n",
       "    </tr>\n",
       "    <tr>\n",
       "      <th>feature</th>\n",
       "      <th></th>\n",
       "    </tr>\n",
       "  </thead>\n",
       "  <tbody>\n",
       "    <tr>\n",
       "      <th>Label</th>\n",
       "      <td>0.294</td>\n",
       "    </tr>\n",
       "    <tr>\n",
       "      <th>Bwd Packet Length Std</th>\n",
       "      <td>0.054</td>\n",
       "    </tr>\n",
       "    <tr>\n",
       "      <th>Packet Length Std</th>\n",
       "      <td>0.051</td>\n",
       "    </tr>\n",
       "    <tr>\n",
       "      <th>Bwd Packet Length Mean</th>\n",
       "      <td>0.049</td>\n",
       "    </tr>\n",
       "    <tr>\n",
       "      <th>Packet Length Variance</th>\n",
       "      <td>0.049</td>\n",
       "    </tr>\n",
       "    <tr>\n",
       "      <th>Average Packet Size</th>\n",
       "      <td>0.046</td>\n",
       "    </tr>\n",
       "    <tr>\n",
       "      <th>Avg Bwd Segment Size</th>\n",
       "      <td>0.036</td>\n",
       "    </tr>\n",
       "    <tr>\n",
       "      <th>Subflow Fwd Bytes</th>\n",
       "      <td>0.034</td>\n",
       "    </tr>\n",
       "    <tr>\n",
       "      <th>Destination Port</th>\n",
       "      <td>0.030</td>\n",
       "    </tr>\n",
       "    <tr>\n",
       "      <th>Total Length of Fwd Packets</th>\n",
       "      <td>0.028</td>\n",
       "    </tr>\n",
       "    <tr>\n",
       "      <th>Total Length of Bwd Packets</th>\n",
       "      <td>0.028</td>\n",
       "    </tr>\n",
       "    <tr>\n",
       "      <th>Packet Length Mean</th>\n",
       "      <td>0.024</td>\n",
       "    </tr>\n",
       "    <tr>\n",
       "      <th>Max Packet Length</th>\n",
       "      <td>0.022</td>\n",
       "    </tr>\n",
       "    <tr>\n",
       "      <th>Bwd Packet Length Max</th>\n",
       "      <td>0.019</td>\n",
       "    </tr>\n",
       "    <tr>\n",
       "      <th>Subflow Bwd Bytes</th>\n",
       "      <td>0.017</td>\n",
       "    </tr>\n",
       "    <tr>\n",
       "      <th>Fwd Packet Length Max</th>\n",
       "      <td>0.011</td>\n",
       "    </tr>\n",
       "    <tr>\n",
       "      <th>Fwd IAT Std</th>\n",
       "      <td>0.010</td>\n",
       "    </tr>\n",
       "    <tr>\n",
       "      <th>Fwd Header Length.1</th>\n",
       "      <td>0.010</td>\n",
       "    </tr>\n",
       "    <tr>\n",
       "      <th>Avg Fwd Segment Size</th>\n",
       "      <td>0.010</td>\n",
       "    </tr>\n",
       "    <tr>\n",
       "      <th>Fwd Header Length</th>\n",
       "      <td>0.010</td>\n",
       "    </tr>\n",
       "    <tr>\n",
       "      <th>Subflow Fwd Packets</th>\n",
       "      <td>0.009</td>\n",
       "    </tr>\n",
       "    <tr>\n",
       "      <th>Bwd Header Length</th>\n",
       "      <td>0.009</td>\n",
       "    </tr>\n",
       "    <tr>\n",
       "      <th>Fwd Packet Length Mean</th>\n",
       "      <td>0.009</td>\n",
       "    </tr>\n",
       "    <tr>\n",
       "      <th>Bwd Packet Length Min</th>\n",
       "      <td>0.009</td>\n",
       "    </tr>\n",
       "    <tr>\n",
       "      <th>Flow IAT Max</th>\n",
       "      <td>0.009</td>\n",
       "    </tr>\n",
       "    <tr>\n",
       "      <th>min_seg_size_forward</th>\n",
       "      <td>0.008</td>\n",
       "    </tr>\n",
       "    <tr>\n",
       "      <th>act_data_pkt_fwd</th>\n",
       "      <td>0.007</td>\n",
       "    </tr>\n",
       "    <tr>\n",
       "      <th>Subflow Bwd Packets</th>\n",
       "      <td>0.007</td>\n",
       "    </tr>\n",
       "    <tr>\n",
       "      <th>Total Fwd Packets</th>\n",
       "      <td>0.007</td>\n",
       "    </tr>\n",
       "    <tr>\n",
       "      <th>PSH Flag Count</th>\n",
       "      <td>0.007</td>\n",
       "    </tr>\n",
       "    <tr>\n",
       "      <th>Total Backward Packets</th>\n",
       "      <td>0.007</td>\n",
       "    </tr>\n",
       "    <tr>\n",
       "      <th>Idle Min</th>\n",
       "      <td>0.006</td>\n",
       "    </tr>\n",
       "    <tr>\n",
       "      <th>URG Flag Count</th>\n",
       "      <td>0.005</td>\n",
       "    </tr>\n",
       "    <tr>\n",
       "      <th>Min Packet Length</th>\n",
       "      <td>0.005</td>\n",
       "    </tr>\n",
       "    <tr>\n",
       "      <th>Flow IAT Std</th>\n",
       "      <td>0.005</td>\n",
       "    </tr>\n",
       "    <tr>\n",
       "      <th>Fwd Packets/s</th>\n",
       "      <td>0.005</td>\n",
       "    </tr>\n",
       "    <tr>\n",
       "      <th>Flow Bytes/s</th>\n",
       "      <td>0.005</td>\n",
       "    </tr>\n",
       "    <tr>\n",
       "      <th>Fwd IAT Max</th>\n",
       "      <td>0.004</td>\n",
       "    </tr>\n",
       "    <tr>\n",
       "      <th>Fwd IAT Mean</th>\n",
       "      <td>0.004</td>\n",
       "    </tr>\n",
       "    <tr>\n",
       "      <th>Fwd Packet Length Std</th>\n",
       "      <td>0.004</td>\n",
       "    </tr>\n",
       "    <tr>\n",
       "      <th>Flow IAT Mean</th>\n",
       "      <td>0.004</td>\n",
       "    </tr>\n",
       "    <tr>\n",
       "      <th>Bwd Packets/s</th>\n",
       "      <td>0.004</td>\n",
       "    </tr>\n",
       "    <tr>\n",
       "      <th>Flow Duration</th>\n",
       "      <td>0.004</td>\n",
       "    </tr>\n",
       "    <tr>\n",
       "      <th>Flow Packets/s</th>\n",
       "      <td>0.003</td>\n",
       "    </tr>\n",
       "    <tr>\n",
       "      <th>Fwd Packet Length Min</th>\n",
       "      <td>0.003</td>\n",
       "    </tr>\n",
       "    <tr>\n",
       "      <th>Idle Max</th>\n",
       "      <td>0.003</td>\n",
       "    </tr>\n",
       "    <tr>\n",
       "      <th>ACK Flag Count</th>\n",
       "      <td>0.002</td>\n",
       "    </tr>\n",
       "    <tr>\n",
       "      <th>Flow IAT Min</th>\n",
       "      <td>0.002</td>\n",
       "    </tr>\n",
       "    <tr>\n",
       "      <th>Fwd IAT Min</th>\n",
       "      <td>0.002</td>\n",
       "    </tr>\n",
       "    <tr>\n",
       "      <th>Fwd IAT Total</th>\n",
       "      <td>0.002</td>\n",
       "    </tr>\n",
       "    <tr>\n",
       "      <th>Active Std</th>\n",
       "      <td>0.001</td>\n",
       "    </tr>\n",
       "    <tr>\n",
       "      <th>Idle Mean</th>\n",
       "      <td>0.001</td>\n",
       "    </tr>\n",
       "    <tr>\n",
       "      <th>Active Min</th>\n",
       "      <td>0.001</td>\n",
       "    </tr>\n",
       "    <tr>\n",
       "      <th>Active Max</th>\n",
       "      <td>0.001</td>\n",
       "    </tr>\n",
       "    <tr>\n",
       "      <th>Bwd IAT Max</th>\n",
       "      <td>0.001</td>\n",
       "    </tr>\n",
       "    <tr>\n",
       "      <th>Bwd IAT Mean</th>\n",
       "      <td>0.001</td>\n",
       "    </tr>\n",
       "    <tr>\n",
       "      <th>Bwd IAT Std</th>\n",
       "      <td>0.001</td>\n",
       "    </tr>\n",
       "    <tr>\n",
       "      <th>Bwd IAT Min</th>\n",
       "      <td>0.001</td>\n",
       "    </tr>\n",
       "    <tr>\n",
       "      <th>Down/Up Ratio</th>\n",
       "      <td>0.001</td>\n",
       "    </tr>\n",
       "    <tr>\n",
       "      <th>Bwd IAT Total</th>\n",
       "      <td>0.000</td>\n",
       "    </tr>\n",
       "    <tr>\n",
       "      <th>Active Mean</th>\n",
       "      <td>0.000</td>\n",
       "    </tr>\n",
       "    <tr>\n",
       "      <th>SYN Flag Count</th>\n",
       "      <td>0.000</td>\n",
       "    </tr>\n",
       "    <tr>\n",
       "      <th>Idle Std</th>\n",
       "      <td>0.000</td>\n",
       "    </tr>\n",
       "    <tr>\n",
       "      <th>Fwd PSH Flags</th>\n",
       "      <td>0.000</td>\n",
       "    </tr>\n",
       "    <tr>\n",
       "      <th>FIN Flag Count</th>\n",
       "      <td>0.000</td>\n",
       "    </tr>\n",
       "  </tbody>\n",
       "</table>\n",
       "</div>"
      ],
      "text/plain": [
       "                              importance\n",
       "feature                                 \n",
       " Label                             0.294\n",
       " Bwd Packet Length Std             0.054\n",
       " Packet Length Std                 0.051\n",
       " Bwd Packet Length Mean            0.049\n",
       " Packet Length Variance            0.049\n",
       " Average Packet Size               0.046\n",
       " Avg Bwd Segment Size              0.036\n",
       " Subflow Fwd Bytes                 0.034\n",
       " Destination Port                  0.030\n",
       "Total Length of Fwd Packets        0.028\n",
       " Total Length of Bwd Packets       0.028\n",
       " Packet Length Mean                0.024\n",
       " Max Packet Length                 0.022\n",
       "Bwd Packet Length Max              0.019\n",
       " Subflow Bwd Bytes                 0.017\n",
       " Fwd Packet Length Max             0.011\n",
       " Fwd IAT Std                       0.010\n",
       " Fwd Header Length.1               0.010\n",
       " Avg Fwd Segment Size              0.010\n",
       " Fwd Header Length                 0.010\n",
       "Subflow Fwd Packets                0.009\n",
       " Bwd Header Length                 0.009\n",
       " Fwd Packet Length Mean            0.009\n",
       " Bwd Packet Length Min             0.009\n",
       " Flow IAT Max                      0.009\n",
       " min_seg_size_forward              0.008\n",
       " act_data_pkt_fwd                  0.007\n",
       " Subflow Bwd Packets               0.007\n",
       " Total Fwd Packets                 0.007\n",
       " PSH Flag Count                    0.007\n",
       " Total Backward Packets            0.007\n",
       " Idle Min                          0.006\n",
       " URG Flag Count                    0.005\n",
       " Min Packet Length                 0.005\n",
       " Flow IAT Std                      0.005\n",
       "Fwd Packets/s                      0.005\n",
       "Flow Bytes/s                       0.005\n",
       " Fwd IAT Max                       0.004\n",
       " Fwd IAT Mean                      0.004\n",
       " Fwd Packet Length Std             0.004\n",
       " Flow IAT Mean                     0.004\n",
       " Bwd Packets/s                     0.004\n",
       " Flow Duration                     0.004\n",
       " Flow Packets/s                    0.003\n",
       " Fwd Packet Length Min             0.003\n",
       " Idle Max                          0.003\n",
       " ACK Flag Count                    0.002\n",
       " Flow IAT Min                      0.002\n",
       " Fwd IAT Min                       0.002\n",
       "Fwd IAT Total                      0.002\n",
       " Active Std                        0.001\n",
       "Idle Mean                          0.001\n",
       " Active Min                        0.001\n",
       " Active Max                        0.001\n",
       " Bwd IAT Max                       0.001\n",
       " Bwd IAT Mean                      0.001\n",
       " Bwd IAT Std                       0.001\n",
       " Bwd IAT Min                       0.001\n",
       " Down/Up Ratio                     0.001\n",
       "Bwd IAT Total                      0.000\n",
       "Active Mean                        0.000\n",
       " SYN Flag Count                    0.000\n",
       " Idle Std                          0.000\n",
       "Fwd PSH Flags                      0.000\n",
       "FIN Flag Count                     0.000"
      ]
     },
     "execution_count": 18,
     "metadata": {},
     "output_type": "execute_result"
    },
    {
     "data": {
      "image/png": "[encoded data removed]",
      "text/plain": [
       "<Figure size 1100x400 with 1 Axes>"
      ]
     },
     "metadata": {},
     "output_type": "display_data"
    }
   ],
   "source": [
    "from matplotlib import pyplot as plt\n",
    "\n",
    "# plot importances\n",
    "plt.rcParams['figure.figsize'] = (11, 4)\n",
    "importances.plot.bar();\n",
    "importances"
   ]
  },
  {
   "cell_type": "markdown",
   "metadata": {},
   "source": [
    "## Feature Extraction - Dimensionality Reduction"
   ]
  },
  {
   "cell_type": "markdown",
   "metadata": {},
   "source": [
    "### Performing PCA"
   ]
  },
  {
   "cell_type": "code",
   "execution_count": 19,
   "metadata": {},
   "outputs": [
    {
     "name": "stdout",
     "output_type": "stream",
     "text": [
      "Shape before PCA:  (1977585, 65)\n",
      "Shape after PCA:  (1977585, 15)\n"
     ]
    }
   ],
   "source": [
    "pca = PCA(n_components=15)\n",
    " \n",
    "pca_features = pca.fit_transform(train_X)\n",
    " \n",
    "print('Shape before PCA: ', train_X.shape)\n",
    "print('Shape after PCA: ', pca_features.shape)\n",
    " \n",
    "pca_df_train_X = pd.DataFrame(\n",
    "    data=pca_features, \n",
    "    columns=['PC1', 'PC2', 'PC3', 'PC4', 'PC5', 'PC6', 'PC7', 'PC8', 'PC9', 'PC10', 'PC11', 'PC12', 'PC13', 'PC14', 'PC15'])\n",
    "\n",
    "train_X = pca_df_train_X"
   ]
  },
  {
   "cell_type": "code",
   "execution_count": 20,
   "metadata": {},
   "outputs": [
    {
     "name": "stdout",
     "output_type": "stream",
     "text": [
      "Shape before PCA:  (847537, 65)\n",
      "Shape after PCA:  (847537, 15)\n"
     ]
    }
   ],
   "source": [
    "pca_features = pca.fit_transform(test_X)\n",
    " \n",
    "print('Shape before PCA: ', test_X.shape)\n",
    "print('Shape after PCA: ', pca_features.shape)\n",
    " \n",
    "pca_df_test_X = pd.DataFrame(\n",
    "    data=pca_features, \n",
    "    columns=['PC1', 'PC2', 'PC3', 'PC4', 'PC5', 'PC6', 'PC7', 'PC8', 'PC9', 'PC10', 'PC11', 'PC12', 'PC13', 'PC14', 'PC15'])\n",
    "\n",
    "test_X = pca_df_test_X"
   ]
  },
  {
   "cell_type": "markdown",
   "metadata": {},
   "source": [
    "#### Plot the explained variance"
   ]
  },
  {
   "cell_type": "code",
   "execution_count": 21,
   "metadata": {},
   "outputs": [
    {
     "data": {
      "image/png": "[encoded data removed]",
      "text/plain": [
       "<Figure size 1100x400 with 1 Axes>"
      ]
     },
     "metadata": {},
     "output_type": "display_data"
    }
   ],
   "source": [
    "sns.set()\n",
    " \n",
    "# Reduce from 4 to 3 features with PCA\n",
    "pca = PCA(n_components=60)\n",
    " \n",
    "# Fit and transform data\n",
    "pca.fit_transform(sc_traindf_X)\n",
    " \n",
    "# Bar plot of explained_variance\n",
    "plt.bar(\n",
    "    range(1,len(pca.explained_variance_)+1),\n",
    "    pca.explained_variance_\n",
    "    )\n",
    " \n",
    " \n",
    "plt.xlabel('PCA Feature')\n",
    "plt.ylabel('Explained variance')\n",
    "plt.title('Feature Explained Variance')\n",
    "plt.show()"
   ]
  },
  {
   "cell_type": "markdown",
   "metadata": {},
   "source": [
    "### Performing LDA"
   ]
  },
  {
   "cell_type": "code",
   "execution_count": null,
   "metadata": {},
   "outputs": [],
   "source": [
    "from sklearn.discriminant_analysis import LinearDiscriminantAnalysis as LDA\n",
    "\n",
    "lda = LDA(n_components=1)\n",
    "train_X = lda.fit_transform(train_X, train_y)\n",
    "test_X = lda.transform(test_X)"
   ]
  },
  {
   "cell_type": "code",
   "execution_count": null,
   "metadata": {},
   "outputs": [],
   "source": [
    "train_X.shape"
   ]
  },
  {
   "cell_type": "markdown",
   "metadata": {},
   "source": [
    "### Random Forest Classifier"
   ]
  },
  {
   "cell_type": "code",
   "execution_count": null,
   "metadata": {},
   "outputs": [],
   "source": [
    "from sklearn.ensemble import RandomForestClassifier\n",
    "\n",
    "classifier = RandomForestClassifier(max_depth=2, random_state=0)\n",
    "\n",
    "classifier.fit(train_X, train_y)\n",
    "y_pred = classifier.predict(test_X)"
   ]
  },
  {
   "cell_type": "code",
   "execution_count": null,
   "metadata": {},
   "outputs": [],
   "source": [
    "from sklearn.metrics import confusion_matrix\n",
    "from sklearn.metrics import accuracy_score\n",
    "\n",
    "cm = confusion_matrix(test_y, y_pred)\n",
    "print(cm)\n",
    "print('Accuracy' + str(accuracy_score(test_y, y_pred)))"
   ]
  },
  {
   "cell_type": "markdown",
   "metadata": {},
   "source": [
    "# Machine Learning Models"
   ]
  },
  {
   "cell_type": "markdown",
   "metadata": {},
   "source": [
    "### Knn, Logistic Regression, Gaussian Naive Baye and Decision Tree models"
   ]
  },
  {
   "cell_type": "code",
   "execution_count": 22,
   "metadata": {},
   "outputs": [
    {
     "data": {
      "text/html": [
       "<style>#sk-container-id-1 {color: black;background-color: white;}#sk-container-id-1 pre{padding: 0;}#sk-container-id-1 div.sk-toggleable {background-color: white;}#sk-container-id-1 label.sk-toggleable__label {cursor: pointer;display: block;width: 100%;margin-bottom: 0;padding: 0.3em;box-sizing: border-box;text-align: center;}#sk-container-id-1 label.sk-toggleable__label-arrow:before {content: \"▸\";float: left;margin-right: 0.25em;color: #696969;}#sk-container-id-1 label.sk-toggleable__label-arrow:hover:before {color: black;}#sk-container-id-1 div.sk-estimator:hover label.sk-toggleable__label-arrow:before {color: black;}#sk-container-id-1 div.sk-toggleable__content {max-height: 0;max-width: 0;overflow: hidden;text-align: left;background-color: #f0f8ff;}#sk-container-id-1 div.sk-toggleable__content pre {margin: 0.2em;color: black;border-radius: 0.25em;background-color: #f0f8ff;}#sk-container-id-1 input.sk-toggleable__control:checked~div.sk-toggleable__content {max-height: 200px;max-width: 100%;overflow: auto;}#sk-container-id-1 input.sk-toggleable__control:checked~label.sk-toggleable__label-arrow:before {content: \"▾\";}#sk-container-id-1 div.sk-estimator input.sk-toggleable__control:checked~label.sk-toggleable__label {background-color: #d4ebff;}#sk-container-id-1 div.sk-label input.sk-toggleable__control:checked~label.sk-toggleable__label {background-color: #d4ebff;}#sk-container-id-1 input.sk-hidden--visually {border: 0;clip: rect(1px 1px 1px 1px);clip: rect(1px, 1px, 1px, 1px);height: 1px;margin: -1px;overflow: hidden;padding: 0;position: absolute;width: 1px;}#sk-container-id-1 div.sk-estimator {font-family: monospace;background-color: #f0f8ff;border: 1px dotted black;border-radius: 0.25em;box-sizing: border-box;margin-bottom: 0.5em;}#sk-container-id-1 div.sk-estimator:hover {background-color: #d4ebff;}#sk-container-id-1 div.sk-parallel-item::after {content: \"\";width: 100%;border-bottom: 1px solid gray;flex-grow: 1;}#sk-container-id-1 div.sk-label:hover label.sk-toggleable__label {background-color: #d4ebff;}#sk-container-id-1 div.sk-serial::before {content: \"\";position: absolute;border-left: 1px solid gray;box-sizing: border-box;top: 0;bottom: 0;left: 50%;z-index: 0;}#sk-container-id-1 div.sk-serial {display: flex;flex-direction: column;align-items: center;background-color: white;padding-right: 0.2em;padding-left: 0.2em;position: relative;}#sk-container-id-1 div.sk-item {position: relative;z-index: 1;}#sk-container-id-1 div.sk-parallel {display: flex;align-items: stretch;justify-content: center;background-color: white;position: relative;}#sk-container-id-1 div.sk-item::before, #sk-container-id-1 div.sk-parallel-item::before {content: \"\";position: absolute;border-left: 1px solid gray;box-sizing: border-box;top: 0;bottom: 0;left: 50%;z-index: -1;}#sk-container-id-1 div.sk-parallel-item {display: flex;flex-direction: column;z-index: 1;position: relative;background-color: white;}#sk-container-id-1 div.sk-parallel-item:first-child::after {align-self: flex-end;width: 50%;}#sk-container-id-1 div.sk-parallel-item:last-child::after {align-self: flex-start;width: 50%;}#sk-container-id-1 div.sk-parallel-item:only-child::after {width: 0;}#sk-container-id-1 div.sk-dashed-wrapped {border: 1px dashed gray;margin: 0 0.4em 0.5em 0.4em;box-sizing: border-box;padding-bottom: 0.4em;background-color: white;}#sk-container-id-1 div.sk-label label {font-family: monospace;font-weight: bold;display: inline-block;line-height: 1.2em;}#sk-container-id-1 div.sk-label-container {text-align: center;}#sk-container-id-1 div.sk-container {/* jupyter's `normalize.less` sets `[hidden] { display: none; }` but bootstrap.min.css set `[hidden] { display: none !important; }` so we also need the `!important` here to be able to override the default hidden behavior on the sphinx rendered scikit-learn.org. See: https://github.com/scikit-learn/scikit-learn/issues/21755 */display: inline-block !important;position: relative;}#sk-container-id-1 div.sk-text-repr-fallback {display: none;}</style><div id=\"sk-container-id-1\" class=\"sk-top-container\"><div class=\"sk-text-repr-fallback\"><pre>DecisionTreeClassifier(criterion=&#x27;entropy&#x27;, random_state=0)</pre><b>In a Jupyter environment, please rerun this cell to show the HTML representation or trust the notebook. <br />On GitHub, the HTML representation is unable to render, please try loading this page with nbviewer.org.</b></div><div class=\"sk-container\" hidden><div class=\"sk-item\"><div class=\"sk-estimator sk-toggleable\"><input class=\"sk-toggleable__control sk-hidden--visually\" id=\"sk-estimator-id-1\" type=\"checkbox\" checked><label for=\"sk-estimator-id-1\" class=\"sk-toggleable__label sk-toggleable__label-arrow\">DecisionTreeClassifier</label><div class=\"sk-toggleable__content\"><pre>DecisionTreeClassifier(criterion=&#x27;entropy&#x27;, random_state=0)</pre></div></div></div></div></div>"
      ],
      "text/plain": [
       "DecisionTreeClassifier(criterion='entropy', random_state=0)"
      ]
     },
     "execution_count": 22,
     "metadata": {},
     "output_type": "execute_result"
    }
   ],
   "source": [
    "# Train KNeighborsClassifier Model\n",
    "KNN_Classifier = KNeighborsClassifier(n_jobs=-1)\n",
    "KNN_Classifier.fit(train_X, train_y); \n",
    "\n",
    "# Train LogisticRegression Model\n",
    "LGR_Classifier = LogisticRegression(n_jobs=-1, random_state=0)\n",
    "LGR_Classifier.fit(train_X, train_y);\n",
    "\n",
    "# Train Gaussian Naive Baye Model\n",
    "BNB_Classifier = BernoulliNB()\n",
    "BNB_Classifier.fit(train_X, train_y)\n",
    "\n",
    "# Train Decision Tree Model\n",
    "DTC_Classifier = tree.DecisionTreeClassifier(criterion='entropy', random_state=0)\n",
    "DTC_Classifier.fit(train_X, train_y)"
   ]
  },
  {
   "cell_type": "code",
   "execution_count": 23,
   "metadata": {},
   "outputs": [
    {
     "name": "stdout",
     "output_type": "stream",
     "text": [
      "\n",
      "============================== Naive Baye Classifier Model Evaluation ==============================\n",
      "\n",
      "Cross Validation Mean Score:\n",
      " 0.8487169957810913\n",
      "\n",
      "Model Accuracy:\n",
      " 0.8488080158374988\n",
      "\n",
      "Confusion matrix:\n",
      " [[ 264922  124229]\n",
      " [ 174766 1413668]]\n",
      "\n",
      "Classification report:\n",
      "               precision    recall  f1-score   support\n",
      "\n",
      "         0.0       0.60      0.68      0.64    389151\n",
      "         1.0       0.92      0.89      0.90   1588434\n",
      "\n",
      "    accuracy                           0.85   1977585\n",
      "   macro avg       0.76      0.79      0.77   1977585\n",
      "weighted avg       0.86      0.85      0.85   1977585\n",
      "\n",
      "\n",
      "\n",
      "============================== Decision Tree Classifier Model Evaluation ==============================\n",
      "\n",
      "Cross Validation Mean Score:\n",
      " 0.9997770007702638\n",
      "\n",
      "Model Accuracy:\n",
      " 1.0\n",
      "\n",
      "Confusion matrix:\n",
      " [[ 389151       0]\n",
      " [      0 1588434]]\n",
      "\n",
      "Classification report:\n",
      "               precision    recall  f1-score   support\n",
      "\n",
      "         0.0       1.00      1.00      1.00    389151\n",
      "         1.0       1.00      1.00      1.00   1588434\n",
      "\n",
      "    accuracy                           1.00   1977585\n",
      "   macro avg       1.00      1.00      1.00   1977585\n",
      "weighted avg       1.00      1.00      1.00   1977585\n",
      "\n",
      "\n",
      "\n",
      "============================== KNeighborsClassifier Model Evaluation ==============================\n",
      "\n",
      "Cross Validation Mean Score:\n",
      " 0.9997871140951256\n",
      "\n",
      "Model Accuracy:\n",
      " 0.9998675151763389\n",
      "\n",
      "Confusion matrix:\n",
      " [[ 388989     162]\n",
      " [    100 1588334]]\n",
      "\n",
      "Classification report:\n",
      "               precision    recall  f1-score   support\n",
      "\n",
      "         0.0       1.00      1.00      1.00    389151\n",
      "         1.0       1.00      1.00      1.00   1588434\n",
      "\n",
      "    accuracy                           1.00   1977585\n",
      "   macro avg       1.00      1.00      1.00   1977585\n",
      "weighted avg       1.00      1.00      1.00   1977585\n",
      "\n",
      "\n",
      "\n",
      "============================== LogisticRegression Model Evaluation ==============================\n",
      "\n",
      "Cross Validation Mean Score:\n",
      " 0.9741047804135053\n",
      "\n",
      "Model Accuracy:\n",
      " 0.9745942652275377\n",
      "\n",
      "Confusion matrix:\n",
      " [[ 349541   39610]\n",
      " [  10632 1577802]]\n",
      "\n",
      "Classification report:\n",
      "               precision    recall  f1-score   support\n",
      "\n",
      "         0.0       0.97      0.90      0.93    389151\n",
      "         1.0       0.98      0.99      0.98   1588434\n",
      "\n",
      "    accuracy                           0.97   1977585\n",
      "   macro avg       0.97      0.95      0.96   1977585\n",
      "weighted avg       0.97      0.97      0.97   1977585\n",
      "\n",
      "\n"
     ]
    }
   ],
   "source": [
    "#Evaluate Models\n",
    "from sklearn import metrics\n",
    "\n",
    "accuracy_score_list = []\n",
    "\n",
    "models = []\n",
    "models.append(('Naive Baye Classifier', BNB_Classifier))\n",
    "models.append(('Decision Tree Classifier', DTC_Classifier))\n",
    "models.append(('KNeighborsClassifier', KNN_Classifier))\n",
    "models.append(('LogisticRegression', LGR_Classifier))\n",
    "\n",
    "for i, v in models:\n",
    "    scores = cross_val_score(v, train_X, train_y, cv=10)\n",
    "    accuracy = metrics.accuracy_score(train_y, v.predict(train_X))\n",
    "    confusion_matrix = metrics.confusion_matrix(train_y, v.predict(train_X))\n",
    "    classification = metrics.classification_report(train_y, v.predict(train_X))\n",
    "    print()\n",
    "    print('============================== {} Model Evaluation =============================='.format(i))\n",
    "    print()\n",
    "    print (\"Cross Validation Mean Score:\" \"\\n\", scores.mean())\n",
    "    print()\n",
    "    accuracy_score_list.append(accuracy)\n",
    "    print (\"Model Accuracy:\" \"\\n\", accuracy)\n",
    "    print()\n",
    "    print(\"Confusion matrix:\" \"\\n\", confusion_matrix)\n",
    "    print()\n",
    "    print(\"Classification report:\" \"\\n\", classification) \n",
    "    print()"
   ]
  },
  {
   "cell_type": "markdown",
   "metadata": {},
   "source": [
    "### Plot the results for each classifier regarding the training phase"
   ]
  },
  {
   "cell_type": "code",
   "execution_count": 24,
   "metadata": {},
   "outputs": [
    {
     "data": {
      "image/png": "[encoded data removed]",
      "text/plain": [
       "<Figure size 2000x300 with 3 Axes>"
      ]
     },
     "metadata": {},
     "output_type": "display_data"
    }
   ],
   "source": [
    "names = ['BNB_Classifier', 'DTC_Classifier', 'KNN_Classifier', 'LGR_Classifier']\n",
    "values = accuracy_score_list\n",
    "\n",
    "plt.figure(figsize=(20, 3))\n",
    "\n",
    "plt.subplot(131)\n",
    "plt.bar(names, values)\n",
    "plt.subplot(132)\n",
    "plt.scatter(names, values)\n",
    "plt.subplot(133)\n",
    "plt.plot(names, values)\n",
    "plt.suptitle(\"Classifiers' accuracy score results after training phase\")\n",
    "plt.show()"
   ]
  },
  {
   "cell_type": "markdown",
   "metadata": {},
   "source": [
    "## Validation of models"
   ]
  },
  {
   "cell_type": "code",
   "execution_count": 25,
   "metadata": {},
   "outputs": [
    {
     "name": "stdout",
     "output_type": "stream",
     "text": [
      "\n",
      "============================== Naive Baye Classifier Model Test Results ==============================\n",
      "\n",
      "Model Accuracy:\n",
      " 0.8366997547009747\n",
      "\n",
      "Confusion matrix:\n",
      " [[ 78780  88446]\n",
      " [ 49957 630354]]\n",
      "\n",
      "Classification report:\n",
      "               precision    recall  f1-score   support\n",
      "\n",
      "         0.0       0.61      0.47      0.53    167226\n",
      "         1.0       0.88      0.93      0.90    680311\n",
      "\n",
      "    accuracy                           0.84    847537\n",
      "   macro avg       0.74      0.70      0.72    847537\n",
      "weighted avg       0.82      0.84      0.83    847537\n",
      "\n",
      "\n",
      "\n",
      "============================== Decision Tree Classifier Model Test Results ==============================\n",
      "\n",
      "Model Accuracy:\n",
      " 0.8611116682811488\n",
      "\n",
      "Confusion matrix:\n",
      " [[110214  57012]\n",
      " [ 60701 619610]]\n",
      "\n",
      "Classification report:\n",
      "               precision    recall  f1-score   support\n",
      "\n",
      "         0.0       0.64      0.66      0.65    167226\n",
      "         1.0       0.92      0.91      0.91    680311\n",
      "\n",
      "    accuracy                           0.86    847537\n",
      "   macro avg       0.78      0.78      0.78    847537\n",
      "weighted avg       0.86      0.86      0.86    847537\n",
      "\n",
      "\n",
      "\n",
      "============================== KNeighborsClassifier Model Test Results ==============================\n",
      "\n",
      "Model Accuracy:\n",
      " 0.9381832297587008\n",
      "\n",
      "Confusion matrix:\n",
      " [[138435  28791]\n",
      " [ 23601 656710]]\n",
      "\n",
      "Classification report:\n",
      "               precision    recall  f1-score   support\n",
      "\n",
      "         0.0       0.85      0.83      0.84    167226\n",
      "         1.0       0.96      0.97      0.96    680311\n",
      "\n",
      "    accuracy                           0.94    847537\n",
      "   macro avg       0.91      0.90      0.90    847537\n",
      "weighted avg       0.94      0.94      0.94    847537\n",
      "\n",
      "\n",
      "\n",
      "============================== LogisticRegression Model Test Results ==============================\n",
      "\n",
      "Model Accuracy:\n",
      " 0.8504985623046546\n",
      "\n",
      "Confusion matrix:\n",
      " [[158626   8600]\n",
      " [118108 562203]]\n",
      "\n",
      "Classification report:\n",
      "               precision    recall  f1-score   support\n",
      "\n",
      "         0.0       0.57      0.95      0.71    167226\n",
      "         1.0       0.98      0.83      0.90    680311\n",
      "\n",
      "    accuracy                           0.85    847537\n",
      "   macro avg       0.78      0.89      0.81    847537\n",
      "weighted avg       0.90      0.85      0.86    847537\n",
      "\n",
      "\n"
     ]
    }
   ],
   "source": [
    "from os import access\n",
    "\n",
    "accuracy_score_val_list = []\n",
    "\n",
    "#Validate Models\n",
    "for i, v in models:\n",
    "    accuracy = metrics.accuracy_score(test_y, v.predict(test_X))\n",
    "    confusion_matrix = metrics.confusion_matrix(test_y, v.predict(test_X))\n",
    "    classification = metrics.classification_report(test_y, v.predict(test_X))\n",
    "    print()\n",
    "    print('============================== {} Model Test Results =============================='.format(i))\n",
    "    print()\n",
    "    print (\"Model Accuracy:\" \"\\n\", accuracy)\n",
    "    accuracy_score_val_list.append(accuracy)\n",
    "    print()\n",
    "    print(\"Confusion matrix:\" \"\\n\", confusion_matrix)\n",
    "    print()\n",
    "    print(\"Classification report:\" \"\\n\", classification) \n",
    "    print() "
   ]
  },
  {
   "cell_type": "markdown",
   "metadata": {},
   "source": [
    "### Plot the results of  each classifier regarding the validation phase"
   ]
  },
  {
   "cell_type": "code",
   "execution_count": 26,
   "metadata": {},
   "outputs": [
    {
     "data": {
      "image/png": "[encoded data removed]",
      "text/plain": [
       "<Figure size 2000x300 with 3 Axes>"
      ]
     },
     "metadata": {},
     "output_type": "display_data"
    }
   ],
   "source": [
    "names = ['BNB_Classifier', 'DTC_Classifier', 'KNN_Classifier', 'LGR_Classifier']\n",
    "values = accuracy_score_val_list\n",
    "\n",
    "plt.figure(figsize=(20, 3))\n",
    "\n",
    "plt.subplot(131)\n",
    "plt.bar(names, values)\n",
    "plt.subplot(132)\n",
    "plt.scatter(names, values)\n",
    "plt.subplot(133)\n",
    "plt.plot(names, values)\n",
    "plt.suptitle(\"Classifiers' accuracy score results after validation phase\")\n",
    "plt.show()"
   ]
  },
  {
   "cell_type": "markdown",
   "metadata": {},
   "source": [
    "# Help"
   ]
  },
  {
   "cell_type": "code",
   "execution_count": null,
   "metadata": {},
   "outputs": [],
   "source": [
    "df_clean.columns"
   ]
  },
  {
   "cell_type": "code",
   "execution_count": null,
   "metadata": {},
   "outputs": [],
   "source": [
    "csvfile=open('features-information-gain-score.csv','w', newline='')\n",
    "\n",
    "for feature in features_col:\n",
    "    csvfile.write(feature + ',\\n')\n",
    "\n",
    "csvfile.close()"
   ]
  },
  {
   "cell_type": "code",
   "execution_count": null,
   "metadata": {},
   "outputs": [],
   "source": [
    "count = np.isinf(df_clean).values.sum()"
   ]
  },
  {
   "cell_type": "code",
   "execution_count": null,
   "metadata": {},
   "outputs": [],
   "source": [
    "X_train.isnull().values.any()"
   ]
  },
  {
   "cell_type": "code",
   "execution_count": null,
   "metadata": {},
   "outputs": [],
   "source": [
    "df_clean.isnull().sum()"
   ]
  },
  {
   "cell_type": "code",
   "execution_count": null,
   "metadata": {},
   "outputs": [],
   "source": [
    "print(df_clean[\" Label\"].unique())"
   ]
  },
  {
   "cell_type": "code",
   "execution_count": null,
   "metadata": {},
   "outputs": [],
   "source": [
    "df_clean"
   ]
  },
  {
   "cell_type": "code",
   "execution_count": null,
   "metadata": {},
   "outputs": [],
   "source": [
    "df_clean.dtypes"
   ]
  },
  {
   "cell_type": "code",
   "execution_count": null,
   "metadata": {},
   "outputs": [],
   "source": [
    "df.dtypes"
   ]
  },
  {
   "cell_type": "code",
   "execution_count": null,
   "metadata": {},
   "outputs": [],
   "source": [
    "trainDep"
   ]
  },
  {
   "cell_type": "code",
   "execution_count": null,
   "metadata": {},
   "outputs": [],
   "source": [
    "file=open('test.txt','w', newline='')\n",
    "\n",
    "file.write(pd.array(testDep, dtype=\"string\"))\n",
    "\n",
    "file.close()"
   ]
  },
  {
   "cell_type": "code",
   "execution_count": null,
   "metadata": {},
   "outputs": [],
   "source": []
  }
 ],
 "metadata": {
  "kernelspec": {
   "display_name": "Python 3.10.7 64-bit",
   "language": "python",
   "name": "python3"
  },
  "language_info": {
   "codemirror_mode": {
    "name": "ipython",
    "version": 3
   },
   "file_extension": ".py",
   "mimetype": "text/x-python",
   "name": "python",
   "nbconvert_exporter": "python",
   "pygments_lexer": "ipython3",
   "version": "3.10.7"
  },
  "vscode": {
   "interpreter": {
    "hash": "dd5d136128aa88cad2ea50cc92b515a1d3cb7943215ab6527b916c6721042e85"
   }
  }
 },
 "nbformat": 4,
 "nbformat_minor": 2
}
